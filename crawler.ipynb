{
 "cells": [
  {
   "cell_type": "code",
   "execution_count": 1,
   "metadata": {},
   "outputs": [
    {
     "name": "stdout",
     "output_type": "stream",
     "text": [
      "Collecting pandas\n",
      "  Downloading pandas-2.2.3-cp310-cp310-win_amd64.whl (11.6 MB)\n",
      "     ---------------------------------------- 0.0/11.6 MB ? eta -:--:--\n",
      "     ---------------------------------------- 0.0/11.6 MB 1.3 MB/s eta 0:00:10\n",
      "     --------------------------------------- 0.1/11.6 MB 980.4 kB/s eta 0:00:12\n",
      "      --------------------------------------- 0.2/11.6 MB 1.2 MB/s eta 0:00:10\n",
      "     - -------------------------------------- 0.3/11.6 MB 1.5 MB/s eta 0:00:08\n",
      "     - -------------------------------------- 0.5/11.6 MB 2.2 MB/s eta 0:00:06\n",
      "     --- ------------------------------------ 0.9/11.6 MB 3.2 MB/s eta 0:00:04\n",
      "     ---- ----------------------------------- 1.3/11.6 MB 4.0 MB/s eta 0:00:03\n",
      "     ------- -------------------------------- 2.1/11.6 MB 5.9 MB/s eta 0:00:02\n",
      "     --------- ------------------------------ 2.6/11.6 MB 6.2 MB/s eta 0:00:02\n",
      "     ------------ --------------------------- 3.8/11.6 MB 8.3 MB/s eta 0:00:01\n",
      "     ----------------- ---------------------- 5.1/11.6 MB 10.1 MB/s eta 0:00:01\n",
      "     -------------------- ------------------- 6.0/11.6 MB 10.9 MB/s eta 0:00:01\n",
      "     ------------------------- -------------- 7.3/11.6 MB 12.3 MB/s eta 0:00:01\n",
      "     ----------------------------- ---------- 8.5/11.6 MB 13.3 MB/s eta 0:00:01\n",
      "     ----------------------------------- --- 10.5/11.6 MB 20.5 MB/s eta 0:00:01\n",
      "     --------------------------------------  11.6/11.6 MB 26.2 MB/s eta 0:00:01\n",
      "     --------------------------------------- 11.6/11.6 MB 23.3 MB/s eta 0:00:00\n",
      "Requirement already satisfied: python-dateutil>=2.8.2 in c:\\users\\user\\appdata\\roaming\\python\\python310\\site-packages (from pandas) (2.9.0.post0)\n",
      "Collecting pytz>=2020.1\n",
      "  Downloading pytz-2024.2-py2.py3-none-any.whl (508 kB)\n",
      "     ---------------------------------------- 0.0/508.0 kB ? eta -:--:--\n",
      "     ------------------------------------- 508.0/508.0 kB 16.1 MB/s eta 0:00:00\n",
      "Collecting numpy>=1.22.4\n",
      "  Downloading numpy-2.1.2-cp310-cp310-win_amd64.whl (12.9 MB)\n",
      "     ---------------------------------------- 0.0/12.9 MB ? eta -:--:--\n",
      "     ----- ---------------------------------- 1.8/12.9 MB 37.7 MB/s eta 0:00:01\n",
      "     ----------- ---------------------------- 3.8/12.9 MB 40.5 MB/s eta 0:00:01\n",
      "     -------------- ------------------------- 4.8/12.9 MB 33.7 MB/s eta 0:00:01\n",
      "     -------------------- ------------------- 6.7/12.9 MB 39.0 MB/s eta 0:00:01\n",
      "     --------------------------- ------------ 8.8/12.9 MB 40.2 MB/s eta 0:00:01\n",
      "     ------------------------------ --------- 9.9/12.9 MB 37.0 MB/s eta 0:00:01\n",
      "     ------------------------------- ------- 10.5/12.9 MB 32.7 MB/s eta 0:00:01\n",
      "     ------------------------------------- - 12.3/12.9 MB 32.8 MB/s eta 0:00:01\n",
      "     --------------------------------------  12.9/12.9 MB 32.8 MB/s eta 0:00:01\n",
      "     --------------------------------------- 12.9/12.9 MB 28.5 MB/s eta 0:00:00\n",
      "Collecting tzdata>=2022.7\n",
      "  Downloading tzdata-2024.2-py2.py3-none-any.whl (346 kB)\n",
      "     ---------------------------------------- 0.0/346.6 kB ? eta -:--:--\n",
      "     ---------------------------------------- 346.6/346.6 kB ? eta 0:00:00\n",
      "Requirement already satisfied: six>=1.5 in c:\\users\\user\\appdata\\roaming\\python\\python310\\site-packages (from python-dateutil>=2.8.2->pandas) (1.16.0)\n",
      "Installing collected packages: pytz, tzdata, numpy, pandas\n",
      "Successfully installed numpy-2.1.2 pandas-2.2.3 pytz-2024.2 tzdata-2024.2\n",
      "Note: you may need to restart the kernel to use updated packages.\n"
     ]
    },
    {
     "name": "stderr",
     "output_type": "stream",
     "text": [
      "  WARNING: The scripts f2py.exe and numpy-config.exe are installed in 'c:\\Users\\user\\AppData\\Local\\Programs\\Python\\Python310\\Scripts' which is not on PATH.\n",
      "  Consider adding this directory to PATH or, if you prefer to suppress this warning, use --no-warn-script-location.\n",
      "\n",
      "[notice] A new release of pip is available: 23.0.1 -> 24.3.1\n",
      "[notice] To update, run: python.exe -m pip install --upgrade pip\n"
     ]
    }
   ],
   "source": [
    "pip install pandas"
   ]
  },
  {
   "cell_type": "code",
   "execution_count": 2,
   "metadata": {},
   "outputs": [],
   "source": [
    "# Write a crawler for facebook\n",
    "import pandas as pd"
   ]
  }
 ],
 "metadata": {
  "kernelspec": {
   "display_name": "Python 3",
   "language": "python",
   "name": "python3"
  },
  "language_info": {
   "codemirror_mode": {
    "name": "ipython",
    "version": 3
   },
   "file_extension": ".py",
   "mimetype": "text/x-python",
   "name": "python",
   "nbconvert_exporter": "python",
   "pygments_lexer": "ipython3",
   "version": "3.10.11"
  }
 },
 "nbformat": 4,
 "nbformat_minor": 2
}
